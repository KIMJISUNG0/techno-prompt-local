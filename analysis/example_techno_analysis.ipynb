{
  "nbformat": 4,
  "nbformat_minor": 0,
  "metadata": {
    "colab": {
      "provenance": [],
      "gpuType": "T4"
    },
    "kernelspec": {
      "name": "python3",
      "display_name": "Python 3"
    },
    "language_info": {
      "name": "python"
    },
    "accelerator": "GPU"
  },
  "cells": [
    {
      "cell_type": "markdown",
      "metadata": {},
      "source": [
        "# 🎵 음악 분석 노트북\\n",
        "VS Code에서 생성된 코랩 호환 노트북\\n",
        "\\n",
        "## 🚀 빠른 시작\\n",
        "1. 런타임 → GPU 변경\\n",
        "2. 구글 드라이브 마운트\\n",
        "3. 음악 파일 업로드 후 분석 실행"
      ]
    },
    {
      "cell_type": "code",
      "execution_count": null,
      "metadata": {},
      "outputs": [],
      "source": [
        "# 🔧 환경 설정\\n",
        "!pip install librosa matplotlib numpy pandas\\n",
        "\\n",
        "# 구글 드라이브 마운트\\n",
        "from google.colab import drive\\n",
        "drive.mount('/content/drive')"
      ]
    },
    {
      "cell_type": "code",
      "execution_count": null,
      "metadata": {},
      "outputs": [],
      "source": [
        "# 🎵 음악 분석 함수\\n",
        "import librosa\\n",
        "import numpy as np\\n",
        "import matplotlib.pyplot as plt\\n",
        "\\n",
        "def analyze_music(file_path):\\n",
        "    print(f'🎵 분석 시작: {file_path}')\\n",
        "    \\n",
        "    # 오디오 로드\\n",
        "    y, sr = librosa.load(file_path, duration=60)\\n",
        "    \\n",
        "    # BPM 분석\\n",
        "    tempo, beats = librosa.beat.beat_track(y=y, sr=sr)\\n",
        "    print(f'🥁 BPM: {tempo:.1f}')\\n",
        "    \\n",
        "    # 시각화\\n",
        "    plt.figure(figsize=(12, 6))\\n",
        "    librosa.display.waveshow(y, sr=sr)\\n",
        "    plt.title(f'Waveform - BPM: {tempo:.1f}')\\n",
        "    plt.show()\\n",
        "    \\n",
        "    return {'bpm': tempo, 'duration': len(y)/sr}\\n",
        "\\n",
        "print('✅ 음악 분석 함수 준비 완료!')"
      ]
    },
    {
      "cell_type": "code",
      "execution_count": null,
      "metadata": {},
      "outputs": [],
      "source": [
        "# 🧪 사용 예시\\n",
        "# 음악 파일 경로를 지정하고 실행하세요\\n",
        "# audio_file = '/content/drive/MyDrive/music/sample.wav'\\n",
        "# result = analyze_music(audio_file)\\n",
        "# print(f'분석 결과: {result}')"
      ]
    }
  ]
}