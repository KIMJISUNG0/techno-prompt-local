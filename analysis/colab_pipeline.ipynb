{
 "cells": [
  {
   "cell_type": "markdown",
   "id": "11f3922c",
   "metadata": {},
   "source": [
    "# VS Code ↔ GitHub ↔ Colab 통합 워크플로 노트북\n",
    "이 노트북은 로컬(VS Code)에서 작성/추가한 노트북을 GitHub에 푸시하고 Colab에서 재사용·실행·편집 후 다시 반영하는 전체 절차를 15개 섹션으로 정리합니다.\n"
   ]
  },
  {
   "cell_type": "markdown",
   "id": "aa8265f1",
   "metadata": {},
   "source": [
    "## 1. Git 설정 및 환경 확인\n",
    "로컬/Colab 환경 차이 파악을 위해 Git과 Python 패키지 목록을 확인합니다.\n",
    "\n",
    "```bash\n",
    "!git --version\n",
    "```\n",
    "```bash\n",
    "!pip list | head -n 25\n",
    "```\n",
    "Git 사용자 정보 (Colab에서 push 필요 시 설정):\n",
    "```bash\n",
    "!git config --global user.name \"Your Name\"\n",
    "!git config --global user.email \"you@example.com\"\n",
    "!git config --list | grep user.\n",
    "```\n"
   ]
  },
  {
   "cell_type": "markdown",
   "id": "f3131606",
   "metadata": {},
   "source": [
    "## 2. Repo 초기화와 첫 커밋 (Notebook 포함)\n",
    "로컬 VS Code에서 (이미 git이면 생략 가능):\n",
    "```bash\n",
    "git init\n",
    "git add .\n",
    "git commit -m \"init notebook\"\n",
    "```\n",
    "Colab 환경에서 클론 후 상태:\n",
    "```bash\n",
    "!git status\n",
    "```\n"
   ]
  },
  {
   "cell_type": "markdown",
   "id": "676436bd",
   "metadata": {},
   "source": [
    "## 3. GitHub 원격 저장소 연결 및 푸시\n",
    "```bash\n",
    "git remote add origin https://github.com/OWNER/REPO.git\n",
    "git branch -M main\n",
    "git push -u origin main\n",
    "```\n",
    "토큰 403 발생 시:\n",
    "```bash\n",
    "git remote set-url origin https://TOKEN@github.com/OWNER/REPO.git\n",
    "```\n"
   ]
  },
  {
   "cell_type": "markdown",
   "id": "92302a32",
   "metadata": {},
   "source": [
    "## 4. Colab에서 GitHub Notebook 열기\n",
    "직접 URL 패턴:\n",
    "```\n",
    "https://colab.research.google.com/github/OWNER/REPO/blob/main/analysis/colab_pipeline.ipynb\n",
    "```\n",
    "또는 Colab > File > Open Notebook > GitHub 탭 활용.\n"
   ]
  }
 ],
 "metadata": {
  "language_info": {
   "name": "python"
  }
 },
 "nbformat": 4,
 "nbformat_minor": 5
}
